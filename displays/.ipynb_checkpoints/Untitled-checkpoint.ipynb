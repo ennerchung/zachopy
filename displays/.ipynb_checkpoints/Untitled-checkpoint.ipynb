{
 "cells": [
  {
   "cell_type": "markdown",
   "metadata": {},
   "source": [
    "For some reason, key press events don't work in matplotlib plots for me any more. \n"
   ]
  },
  {
   "cell_type": "code",
   "execution_count": 5,
   "metadata": {},
   "outputs": [],
   "source": [
    "import matplotlib.pyplot as plt, numpy as np\n",
    "% matplotlib osx"
   ]
  },
  {
   "cell_type": "code",
   "execution_count": 6,
   "metadata": {},
   "outputs": [
    {
     "name": "stdout",
     "output_type": "stream",
     "text": [
      "single click: button=1, x=589, y=615, xdata=3.831351, ydata=0.589636\n",
      "single click: button=1, x=789, y=589, xdata=5.827319, ydata=0.558027\n",
      "single click: button=1, x=877, y=236, xdata=6.705544, ydata=0.128867\n",
      "single click: button=1, x=531, y=221, xdata=3.252520, ydata=0.110631\n",
      "single click: button=1, x=440, y=555, xdata=2.344355, ydata=0.516691\n",
      "single click: button=1, x=976, y=262, xdata=7.693548, ydata=0.160477\n",
      "single click: button=1, x=976, y=262, xdata=7.693548, ydata=0.160477\n",
      "single click: button=1, x=868, y=560, xdata=6.615726, ydata=0.522770\n",
      "single click: button=1, x=383, y=701, xdata=1.775504, ydata=0.694190\n"
     ]
    }
   ],
   "source": [
    "\n",
    "fig, ax = plt.subplots()\n",
    "ax.plot(np.random.rand(10))\n",
    "\n",
    "def onclick(event):\n",
    "    print('%s click: button=%d, x=%d, y=%d, xdata=%f, ydata=%f' %\n",
    "          ('double' if event.dblclick else 'single', event.button,\n",
    "           event.x, event.y, event.xdata, event.ydata))\n",
    "\n",
    "cid = fig.canvas.mpl_connect('key_press_event', onclick)"
   ]
  },
  {
   "cell_type": "code",
   "execution_count": null,
   "metadata": {},
   "outputs": [],
   "source": []
  }
 ],
 "metadata": {
  "kernelspec": {
   "display_name": "Python 3",
   "language": "python",
   "name": "python3"
  },
  "language_info": {
   "codemirror_mode": {
    "name": "ipython",
    "version": 3
   },
   "file_extension": ".py",
   "mimetype": "text/x-python",
   "name": "python",
   "nbconvert_exporter": "python",
   "pygments_lexer": "ipython3",
   "version": "3.6.2"
  }
 },
 "nbformat": 4,
 "nbformat_minor": 2
}
